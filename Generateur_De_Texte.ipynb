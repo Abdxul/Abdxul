{
  "nbformat": 4,
  "nbformat_minor": 0,
  "metadata": {
    "colab": {
      "provenance": [],
      "gpuType": "T4",
      "authorship_tag": "ABX9TyOcdh9PnsOSkqrWNG9QwxWH",
      "include_colab_link": true
    },
    "kernelspec": {
      "name": "python3",
      "display_name": "Python 3"
    },
    "language_info": {
      "name": "python"
    },
    "accelerator": "GPU"
  },
  "cells": [
    {
      "cell_type": "markdown",
      "metadata": {
        "id": "view-in-github",
        "colab_type": "text"
      },
      "source": [
        "<a href=\"https://colab.research.google.com/github/Abdxul/Abdxul/blob/main/Generateur_De_Texte.ipynb\" target=\"_parent\"><img src=\"https://colab.research.google.com/assets/colab-badge.svg\" alt=\"Open In Colab\"/></a>"
      ]
    },
    {
      "cell_type": "code",
      "execution_count": null,
      "metadata": {
        "id": "63u05Gwnmpz3"
      },
      "outputs": [],
      "source": [
        "import tensorflow as tf\n",
        "import numpy as np\n",
        "import os\n"
      ]
    },
    {
      "cell_type": "code",
      "source": [
        "path_to_file = './shakespeare.txt'"
      ],
      "metadata": {
        "id": "i-OYggAvnYHV"
      },
      "execution_count": null,
      "outputs": []
    },
    {
      "cell_type": "code",
      "source": [
        "text = open(path_to_file,'rb').read()\n",
        "text = text.decode(encoding='utf-8')\n",
        "print('Total number of caracters in the corpus is:',len(text))\n",
        "print('The first 100 caracters of the corpus are as follow:\\n',text[:100])\n"
      ],
      "metadata": {
        "colab": {
          "base_uri": "https://localhost:8080/"
        },
        "id": "iVZTQfJ5nkeR",
        "outputId": "e424775f-8521-4ad4-e82b-3d1d79952c72"
      },
      "execution_count": null,
      "outputs": [
        {
          "output_type": "stream",
          "name": "stdout",
          "text": [
            "Total number of caracters in the corpus is: 1115394\n",
            "The first 100 caracters of the corpus are as follow:\n",
            " First Citizen:\n",
            "Before we proceed any further, hear me speak.\n",
            "\n",
            "All:\n",
            "Speak, speak.\n",
            "\n",
            "First Citizen:\n",
            "You\n"
          ]
        }
      ]
    },
    {
      "cell_type": "code",
      "source": [
        "vocab = sorted(set(text))\n",
        "print('The number of unique caracters in the corpus is',len(vocab))\n",
        "print('A slice of the unique caracters set:\\n',vocab[:10])\n"
      ],
      "metadata": {
        "colab": {
          "base_uri": "https://localhost:8080/"
        },
        "id": "6IbyoBeroJ3K",
        "outputId": "52266256-0e97-4348-ebe2-35797f91c6fc"
      },
      "execution_count": null,
      "outputs": [
        {
          "output_type": "stream",
          "name": "stdout",
          "text": [
            "The number of unique caracters in the corpus is 65\n",
            "A slice of the unique caracters set:\n",
            " ['\\n', ' ', '!', '$', '&', \"'\", ',', '-', '.', '3']\n"
          ]
        }
      ]
    },
    {
      "cell_type": "code",
      "source": [
        "char2idx = {u:i for i, u in enumerate(vocab)}\n",
        "idx2char = np.array(vocab)\n",
        "\n",
        "text_as_int = np.array([char2idx[c] for c in text])\n",
        "char_dataset = tf.data.Dataset.from_tensor_slices(text_as_int)\n",
        "\n",
        "seq_length = 100\n",
        "\n",
        "sequences = char_dataset.batch(seq_length+1,drop_remainder = True)\n"
      ],
      "metadata": {
        "id": "THMPOClKocwY"
      },
      "execution_count": null,
      "outputs": []
    },
    {
      "cell_type": "code",
      "source": [
        "def split_input_target(chunk):\n",
        "  input_text = chunk[:-1]\n",
        "  target_text = chunk[1:]\n",
        "  return input_text, target_text"
      ],
      "metadata": {
        "id": "1t89L4mdpX_A"
      },
      "execution_count": null,
      "outputs": []
    },
    {
      "cell_type": "code",
      "source": [
        "dataset = sequences.map(split_input_target)"
      ],
      "metadata": {
        "id": "xJaNeqxgpzeW"
      },
      "execution_count": null,
      "outputs": []
    },
    {
      "cell_type": "code",
      "source": [
        "BUFFER_SIZE = 10000\n",
        "BATCH_SIZE = 64\n",
        "dataset = dataset.shuffle(BUFFER_SIZE).batch(BATCH_SIZE, drop_remainder=True)"
      ],
      "metadata": {
        "id": "e5X3rcnaqJjw"
      },
      "execution_count": null,
      "outputs": []
    },
    {
      "cell_type": "code",
      "source": [
        "vocab_size = len(vocab)\n",
        "embedding_dim = 256\n",
        "rnn_units = 1024\n"
      ],
      "metadata": {
        "id": "sOasfUbisHpA"
      },
      "execution_count": null,
      "outputs": []
    },
    {
      "cell_type": "code",
      "source": [
        "def build_model(vocab_size, embedding_dim, rnn_units, batch_size):\n",
        "  model = tf.keras.Sequential([\n",
        "      tf.keras.layers.Embedding(vocab_size, embedding_dim,\n",
        "                                batch_input_shape=[batch_size, None]),\n",
        "      tf.keras.layers.GRU(rnn_units,\n",
        "                         return_sequences=True,\n",
        "                         stateful=True,\n",
        "                         recurrent_initializer='glorot_uniform'),\n",
        "      tf.keras.layers.Dense(vocab_size)\n",
        "\n",
        "  ])\n",
        "  return model"
      ],
      "metadata": {
        "id": "3K-Iq43FscAJ"
      },
      "execution_count": null,
      "outputs": []
    },
    {
      "cell_type": "code",
      "source": [
        "model = build_model(\n",
        "    vocab_size = len(vocab),\n",
        "    embedding_dim = embedding_dim,\n",
        "    rnn_units=rnn_units,\n",
        "    batch_size =BATCH_SIZE\n",
        ")\n",
        "\n",
        "model.summary()"
      ],
      "metadata": {
        "colab": {
          "base_uri": "https://localhost:8080/"
        },
        "id": "ktFhj5i7ts-H",
        "outputId": "4674d0b9-d511-40ae-a65e-026ae3549574"
      },
      "execution_count": null,
      "outputs": [
        {
          "output_type": "stream",
          "name": "stdout",
          "text": [
            "Model: \"sequential\"\n",
            "_________________________________________________________________\n",
            " Layer (type)                Output Shape              Param #   \n",
            "=================================================================\n",
            " embedding (Embedding)       (64, None, 256)           16640     \n",
            "                                                                 \n",
            " gru (GRU)                   (64, None, 1024)          3938304   \n",
            "                                                                 \n",
            " dense (Dense)               (64, None, 65)            66625     \n",
            "                                                                 \n",
            "=================================================================\n",
            "Total params: 4021569 (15.34 MB)\n",
            "Trainable params: 4021569 (15.34 MB)\n",
            "Non-trainable params: 0 (0.00 Byte)\n",
            "_________________________________________________________________\n"
          ]
        }
      ]
    },
    {
      "cell_type": "code",
      "source": [
        "def loss(labels, logits):\n",
        "  return tf.keras.losses.sparse_categorical_crossentropy(labels, logits, from_logits=True)"
      ],
      "metadata": {
        "id": "TGEmKUKuwLkK"
      },
      "execution_count": null,
      "outputs": []
    },
    {
      "cell_type": "code",
      "source": [
        "model.compile(optimizer='adam', loss =loss)"
      ],
      "metadata": {
        "id": "PinE9Ryrwcz0"
      },
      "execution_count": null,
      "outputs": []
    },
    {
      "cell_type": "code",
      "source": [
        "checkpoint_dir='./training_checkpoints'\n",
        "checkpoint_prefix = os.path.join(checkpoint_dir,\"ckpt_{epoch}\")\n",
        "\n",
        "checkpoint_callback = tf.keras.callbacks.ModelCheckpoint(\n",
        "    filepath=checkpoint_prefix,\n",
        "    save_weights_only=True\n",
        ")"
      ],
      "metadata": {
        "id": "UL3VU4afwtkt"
      },
      "execution_count": null,
      "outputs": []
    },
    {
      "cell_type": "code",
      "source": [
        "EPOCHS = 30\n",
        "history = model.fit(dataset,\n",
        "                    epochs=EPOCHS,\n",
        "                    callbacks=[checkpoint_callback])\n"
      ],
      "metadata": {
        "colab": {
          "base_uri": "https://localhost:8080/"
        },
        "id": "WPnfK0m5iM6h",
        "outputId": "e82cc5f8-81c2-4258-c592-be1e2feebb86"
      },
      "execution_count": null,
      "outputs": [
        {
          "output_type": "stream",
          "name": "stdout",
          "text": [
            "Epoch 1/30\n",
            "172/172 [==============================] - 16s 60ms/step - loss: 2.6925\n",
            "Epoch 2/30\n",
            "172/172 [==============================] - 12s 58ms/step - loss: 1.9635\n",
            "Epoch 3/30\n",
            "172/172 [==============================] - 12s 58ms/step - loss: 1.6993\n",
            "Epoch 4/30\n",
            "172/172 [==============================] - 12s 60ms/step - loss: 1.5499\n",
            "Epoch 5/30\n",
            "172/172 [==============================] - 12s 61ms/step - loss: 1.4604\n",
            "Epoch 6/30\n",
            "172/172 [==============================] - 13s 62ms/step - loss: 1.4008\n",
            "Epoch 7/30\n",
            "172/172 [==============================] - 12s 61ms/step - loss: 1.3543\n",
            "Epoch 8/30\n",
            "172/172 [==============================] - 12s 61ms/step - loss: 1.3145\n",
            "Epoch 9/30\n",
            "172/172 [==============================] - 13s 61ms/step - loss: 1.2803\n",
            "Epoch 10/30\n",
            "172/172 [==============================] - 12s 61ms/step - loss: 1.2477\n",
            "Epoch 11/30\n",
            "172/172 [==============================] - 12s 62ms/step - loss: 1.2164\n",
            "Epoch 12/30\n",
            "172/172 [==============================] - 12s 62ms/step - loss: 1.1849\n",
            "Epoch 13/30\n",
            "172/172 [==============================] - 12s 62ms/step - loss: 1.1525\n",
            "Epoch 14/30\n",
            "172/172 [==============================] - 12s 62ms/step - loss: 1.1190\n",
            "Epoch 15/30\n",
            "172/172 [==============================] - 12s 62ms/step - loss: 1.0861\n",
            "Epoch 16/30\n",
            "172/172 [==============================] - 12s 62ms/step - loss: 1.0513\n",
            "Epoch 17/30\n",
            "172/172 [==============================] - 13s 62ms/step - loss: 1.0162\n",
            "Epoch 18/30\n",
            "172/172 [==============================] - 12s 62ms/step - loss: 0.9801\n",
            "Epoch 19/30\n",
            "172/172 [==============================] - 13s 61ms/step - loss: 0.9460\n",
            "Epoch 20/30\n",
            "172/172 [==============================] - 12s 61ms/step - loss: 0.9131\n",
            "Epoch 21/30\n",
            "172/172 [==============================] - 12s 62ms/step - loss: 0.8810\n",
            "Epoch 22/30\n",
            "172/172 [==============================] - 12s 62ms/step - loss: 0.8517\n",
            "Epoch 23/30\n",
            "172/172 [==============================] - 13s 62ms/step - loss: 0.8225\n",
            "Epoch 24/30\n",
            "172/172 [==============================] - 12s 62ms/step - loss: 0.7987\n",
            "Epoch 25/30\n",
            "172/172 [==============================] - 12s 62ms/step - loss: 0.7786\n",
            "Epoch 26/30\n",
            "172/172 [==============================] - 12s 61ms/step - loss: 0.7573\n",
            "Epoch 27/30\n",
            "172/172 [==============================] - 12s 61ms/step - loss: 0.7415\n",
            "Epoch 28/30\n",
            "172/172 [==============================] - 12s 61ms/step - loss: 0.7263\n",
            "Epoch 29/30\n",
            "172/172 [==============================] - 12s 62ms/step - loss: 0.7127\n",
            "Epoch 30/30\n",
            "172/172 [==============================] - 13s 62ms/step - loss: 0.7028\n"
          ]
        }
      ]
    },
    {
      "cell_type": "code",
      "source": [
        "tf.train.latest_checkpoint(checkpoint_dir)"
      ],
      "metadata": {
        "colab": {
          "base_uri": "https://localhost:8080/",
          "height": 35
        },
        "id": "a0vNix8ZpZWE",
        "outputId": "de6a6413-c9c1-42c0-e643-ec725d4fa953"
      },
      "execution_count": null,
      "outputs": [
        {
          "output_type": "execute_result",
          "data": {
            "text/plain": [
              "'./training_checkpoints/ckpt_30'"
            ],
            "application/vnd.google.colaboratory.intrinsic+json": {
              "type": "string"
            }
          },
          "metadata": {},
          "execution_count": 17
        }
      ]
    },
    {
      "cell_type": "code",
      "source": [
        "model = build_model(vocab_size, embedding_dim, rnn_units, batch_size=1)\n",
        "model.load_weights(tf.train.latest_checkpoint(checkpoint_dir))\n",
        "model.build(tf.TensorShape([1,None]))\n",
        "model.summary()"
      ],
      "metadata": {
        "colab": {
          "base_uri": "https://localhost:8080/"
        },
        "id": "T8OpVkObps8l",
        "outputId": "2ab49e6d-455c-426f-fd9e-84b7cc2d3ceb"
      },
      "execution_count": null,
      "outputs": [
        {
          "output_type": "stream",
          "name": "stdout",
          "text": [
            "Model: \"sequential_3\"\n",
            "_________________________________________________________________\n",
            " Layer (type)                Output Shape              Param #   \n",
            "=================================================================\n",
            " embedding_3 (Embedding)     (1, None, 256)            16640     \n",
            "                                                                 \n",
            " gru_3 (GRU)                 (1, None, 1024)           3938304   \n",
            "                                                                 \n",
            " dense_3 (Dense)             (1, None, 65)             66625     \n",
            "                                                                 \n",
            "=================================================================\n",
            "Total params: 4021569 (15.34 MB)\n",
            "Trainable params: 4021569 (15.34 MB)\n",
            "Non-trainable params: 0 (0.00 Byte)\n",
            "_________________________________________________________________\n"
          ]
        }
      ]
    },
    {
      "cell_type": "code",
      "source": [
        "\n",
        "\n",
        "def generate_text(model, num_generate, temperature, start_string):\n",
        "    # Converting the start string to numbers (vectorizing)\n",
        "    input_eval = [char2idx[s] for s in start_string]\n",
        "    input_eval = tf.expand_dims(input_eval, 0)\n",
        "\n",
        "    # Empty string to store our results\n",
        "    text_generated = []\n",
        "\n",
        "    # Reset the initial state of the model\n",
        "    model.reset_states()\n",
        "\n",
        "    for i in range(num_generate):\n",
        "        predictions = model(input_eval)\n",
        "        # Remove the batch dimension\n",
        "        predictions = tf.squeeze(predictions, 0)\n",
        "\n",
        "        # Using a categorical distribution to predict the character returned by the model\n",
        "        predictions = predictions / temperature\n",
        "        predicted_id = tf.random.categorical(predictions, num_samples=1)[-1,0].numpy()\n",
        "\n",
        "        # Pass the predicted character as the next input to the model\n",
        "        # along with the previous hidden state\n",
        "        input_eval = tf.expand_dims([predicted_id], 0)\n",
        "\n",
        "        text_generated.append(idx2char[predicted_id])\n",
        "\n",
        "    return start_string + ''.join(text_generated)\n"
      ],
      "metadata": {
        "id": "pBgvHX1eqQCl"
      },
      "execution_count": null,
      "outputs": []
    },
    {
      "cell_type": "code",
      "source": [
        "generated_text = generate_text(model,\n",
        "                                num_generate = 1000,\n",
        "                                temperature=1,\n",
        "                                start_string=u\"ROMEO\")\n",
        "print(generated_text)"
      ],
      "metadata": {
        "colab": {
          "base_uri": "https://localhost:8080/"
        },
        "id": "TLkAO4DGrm3o",
        "outputId": "97c54e9a-e198-4935-8e76-2ec2327b6288"
      },
      "execution_count": null,
      "outputs": [
        {
          "output_type": "stream",
          "name": "stdout",
          "text": [
            "ROMEO:\n",
            "Practisfire the course of joy, I cheque'd my friends,\n",
            "I' the curses in heaven and earth,\n",
            "My tongue say so? then I'll set again; would bring\n",
            "Themorter: therefore it is faults I mean,\n",
            "When Richmond strew,\n",
            "Enchrise to be absolved!\n",
            "\n",
            "DUKE VINCENTIO:\n",
            "Should say this it is so pale edry the costard?\n",
            "\n",
            "CURTIS:\n",
            "But you are certainly a gentle maid hath kill'd\n",
            "Commit me with the glasses he\n",
            "With old opposite lives; then girls one that are like the bottommon\n",
            "my daughter and his prattle still\n",
            "As or bathem bold: 'tis true, I give thee,\n",
            "And so I take my letter breath eyes,\n",
            "My mirth it is become a prophecy by his son.\n",
            "For your looks are gentle fill.\n",
            "\n",
            "KING RICHARD III:\n",
            "You will find upright love,\n",
            "Which these blacks in me for justice when he wakes,\n",
            "To be the other in this captain I shell understand,\n",
            "Is grows the dukedom since, to Corioli have\n",
            "hand for an edge hours have paphed judgment\n",
            "That I have following his son fright to be drunk,\n",
            "That you shall goes with Angelo.\n",
            "\n",
            "I may mine,\n",
            "If he shall smile indeed\n"
          ]
        }
      ]
    }
  ]
}